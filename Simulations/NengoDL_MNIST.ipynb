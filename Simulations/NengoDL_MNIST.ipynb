{
  "cells": [
    {
      "cell_type": "code",
      "execution_count": 1,
      "metadata": {
        "colab": {
          "base_uri": "https://localhost:8080/"
        },
        "id": "vUYS5U727kes",
        "outputId": "fb0dc461-629b-4567-b8f9-a841eaac7a27"
      },
      "outputs": [
        {
          "output_type": "stream",
          "name": "stdout",
          "text": [
            "Looking in indexes: https://pypi.org/simple, https://us-python.pkg.dev/colab-wheels/public/simple/\n",
            "Collecting nengo\n",
            "  Downloading nengo-3.2.0-py3-none-any.whl (535 kB)\n",
            "\u001b[2K     \u001b[90m━━━━━━━━━━━━━━━━━━━━━━━━━━━━━━━━━━━━━━━\u001b[0m \u001b[32m535.3/535.3 kB\u001b[0m \u001b[31m8.9 MB/s\u001b[0m eta \u001b[36m0:00:00\u001b[0m\n",
            "\u001b[?25hRequirement already satisfied: numpy>=1.19 in /usr/local/lib/python3.10/dist-packages (from nengo) (1.22.4)\n",
            "Installing collected packages: nengo\n",
            "Successfully installed nengo-3.2.0\n",
            "Looking in indexes: https://pypi.org/simple, https://us-python.pkg.dev/colab-wheels/public/simple/\n",
            "Collecting nengo_dl\n",
            "  Downloading nengo-dl-3.6.0.tar.gz (286 kB)\n",
            "\u001b[2K     \u001b[90m━━━━━━━━━━━━━━━━━━━━━━━━━━━━━━━━━━━━━━━\u001b[0m \u001b[32m286.2/286.2 kB\u001b[0m \u001b[31m5.8 MB/s\u001b[0m eta \u001b[36m0:00:00\u001b[0m\n",
            "\u001b[?25h  Installing build dependencies ... \u001b[?25l\u001b[?25hdone\n",
            "  Getting requirements to build wheel ... \u001b[?25l\u001b[?25hdone\n",
            "  Preparing metadata (pyproject.toml) ... \u001b[?25l\u001b[?25hdone\n",
            "Requirement already satisfied: nengo>=3.0.0 in /usr/local/lib/python3.10/dist-packages (from nengo_dl) (3.2.0)\n",
            "Requirement already satisfied: numpy>=1.16.0 in /usr/local/lib/python3.10/dist-packages (from nengo_dl) (1.22.4)\n",
            "Requirement already satisfied: tensorflow>=2.3.4 in /usr/local/lib/python3.10/dist-packages (from nengo_dl) (2.12.0)\n",
            "Requirement already satisfied: jinja2>=2.10.1 in /usr/local/lib/python3.10/dist-packages (from nengo_dl) (3.1.2)\n",
            "Requirement already satisfied: packaging>=20.0 in /usr/local/lib/python3.10/dist-packages (from nengo_dl) (23.1)\n",
            "Requirement already satisfied: progressbar2>=3.39.0 in /usr/local/lib/python3.10/dist-packages (from nengo_dl) (4.2.0)\n",
            "Requirement already satisfied: MarkupSafe>=2.0 in /usr/local/lib/python3.10/dist-packages (from jinja2>=2.10.1->nengo_dl) (2.1.2)\n",
            "Requirement already satisfied: python-utils>=3.0.0 in /usr/local/lib/python3.10/dist-packages (from progressbar2>=3.39.0->nengo_dl) (3.5.2)\n",
            "Requirement already satisfied: absl-py>=1.0.0 in /usr/local/lib/python3.10/dist-packages (from tensorflow>=2.3.4->nengo_dl) (1.4.0)\n",
            "Requirement already satisfied: astunparse>=1.6.0 in /usr/local/lib/python3.10/dist-packages (from tensorflow>=2.3.4->nengo_dl) (1.6.3)\n",
            "Requirement already satisfied: flatbuffers>=2.0 in /usr/local/lib/python3.10/dist-packages (from tensorflow>=2.3.4->nengo_dl) (23.3.3)\n",
            "Requirement already satisfied: gast<=0.4.0,>=0.2.1 in /usr/local/lib/python3.10/dist-packages (from tensorflow>=2.3.4->nengo_dl) (0.4.0)\n",
            "Requirement already satisfied: google-pasta>=0.1.1 in /usr/local/lib/python3.10/dist-packages (from tensorflow>=2.3.4->nengo_dl) (0.2.0)\n",
            "Requirement already satisfied: grpcio<2.0,>=1.24.3 in /usr/local/lib/python3.10/dist-packages (from tensorflow>=2.3.4->nengo_dl) (1.54.0)\n",
            "Requirement already satisfied: h5py>=2.9.0 in /usr/local/lib/python3.10/dist-packages (from tensorflow>=2.3.4->nengo_dl) (3.8.0)\n",
            "Requirement already satisfied: jax>=0.3.15 in /usr/local/lib/python3.10/dist-packages (from tensorflow>=2.3.4->nengo_dl) (0.4.10)\n",
            "Requirement already satisfied: keras<2.13,>=2.12.0 in /usr/local/lib/python3.10/dist-packages (from tensorflow>=2.3.4->nengo_dl) (2.12.0)\n",
            "Requirement already satisfied: libclang>=13.0.0 in /usr/local/lib/python3.10/dist-packages (from tensorflow>=2.3.4->nengo_dl) (16.0.0)\n",
            "Requirement already satisfied: opt-einsum>=2.3.2 in /usr/local/lib/python3.10/dist-packages (from tensorflow>=2.3.4->nengo_dl) (3.3.0)\n",
            "Requirement already satisfied: protobuf!=4.21.0,!=4.21.1,!=4.21.2,!=4.21.3,!=4.21.4,!=4.21.5,<5.0.0dev,>=3.20.3 in /usr/local/lib/python3.10/dist-packages (from tensorflow>=2.3.4->nengo_dl) (3.20.3)\n",
            "Requirement already satisfied: setuptools in /usr/local/lib/python3.10/dist-packages (from tensorflow>=2.3.4->nengo_dl) (67.7.2)\n",
            "Requirement already satisfied: six>=1.12.0 in /usr/local/lib/python3.10/dist-packages (from tensorflow>=2.3.4->nengo_dl) (1.16.0)\n",
            "Requirement already satisfied: tensorboard<2.13,>=2.12 in /usr/local/lib/python3.10/dist-packages (from tensorflow>=2.3.4->nengo_dl) (2.12.2)\n",
            "Requirement already satisfied: tensorflow-estimator<2.13,>=2.12.0 in /usr/local/lib/python3.10/dist-packages (from tensorflow>=2.3.4->nengo_dl) (2.12.0)\n",
            "Requirement already satisfied: termcolor>=1.1.0 in /usr/local/lib/python3.10/dist-packages (from tensorflow>=2.3.4->nengo_dl) (2.3.0)\n",
            "Requirement already satisfied: typing-extensions>=3.6.6 in /usr/local/lib/python3.10/dist-packages (from tensorflow>=2.3.4->nengo_dl) (4.5.0)\n",
            "Requirement already satisfied: wrapt<1.15,>=1.11.0 in /usr/local/lib/python3.10/dist-packages (from tensorflow>=2.3.4->nengo_dl) (1.14.1)\n",
            "Requirement already satisfied: tensorflow-io-gcs-filesystem>=0.23.1 in /usr/local/lib/python3.10/dist-packages (from tensorflow>=2.3.4->nengo_dl) (0.32.0)\n",
            "Requirement already satisfied: wheel<1.0,>=0.23.0 in /usr/local/lib/python3.10/dist-packages (from astunparse>=1.6.0->tensorflow>=2.3.4->nengo_dl) (0.40.0)\n",
            "Requirement already satisfied: ml-dtypes>=0.1.0 in /usr/local/lib/python3.10/dist-packages (from jax>=0.3.15->tensorflow>=2.3.4->nengo_dl) (0.1.0)\n",
            "Requirement already satisfied: scipy>=1.7 in /usr/local/lib/python3.10/dist-packages (from jax>=0.3.15->tensorflow>=2.3.4->nengo_dl) (1.10.1)\n",
            "Requirement already satisfied: google-auth<3,>=1.6.3 in /usr/local/lib/python3.10/dist-packages (from tensorboard<2.13,>=2.12->tensorflow>=2.3.4->nengo_dl) (2.17.3)\n",
            "Requirement already satisfied: google-auth-oauthlib<1.1,>=0.5 in /usr/local/lib/python3.10/dist-packages (from tensorboard<2.13,>=2.12->tensorflow>=2.3.4->nengo_dl) (1.0.0)\n",
            "Requirement already satisfied: markdown>=2.6.8 in /usr/local/lib/python3.10/dist-packages (from tensorboard<2.13,>=2.12->tensorflow>=2.3.4->nengo_dl) (3.4.3)\n",
            "Requirement already satisfied: requests<3,>=2.21.0 in /usr/local/lib/python3.10/dist-packages (from tensorboard<2.13,>=2.12->tensorflow>=2.3.4->nengo_dl) (2.27.1)\n",
            "Requirement already satisfied: tensorboard-data-server<0.8.0,>=0.7.0 in /usr/local/lib/python3.10/dist-packages (from tensorboard<2.13,>=2.12->tensorflow>=2.3.4->nengo_dl) (0.7.0)\n",
            "Requirement already satisfied: tensorboard-plugin-wit>=1.6.0 in /usr/local/lib/python3.10/dist-packages (from tensorboard<2.13,>=2.12->tensorflow>=2.3.4->nengo_dl) (1.8.1)\n",
            "Requirement already satisfied: werkzeug>=1.0.1 in /usr/local/lib/python3.10/dist-packages (from tensorboard<2.13,>=2.12->tensorflow>=2.3.4->nengo_dl) (2.3.0)\n",
            "Requirement already satisfied: cachetools<6.0,>=2.0.0 in /usr/local/lib/python3.10/dist-packages (from google-auth<3,>=1.6.3->tensorboard<2.13,>=2.12->tensorflow>=2.3.4->nengo_dl) (5.3.0)\n",
            "Requirement already satisfied: pyasn1-modules>=0.2.1 in /usr/local/lib/python3.10/dist-packages (from google-auth<3,>=1.6.3->tensorboard<2.13,>=2.12->tensorflow>=2.3.4->nengo_dl) (0.3.0)\n",
            "Requirement already satisfied: rsa<5,>=3.1.4 in /usr/local/lib/python3.10/dist-packages (from google-auth<3,>=1.6.3->tensorboard<2.13,>=2.12->tensorflow>=2.3.4->nengo_dl) (4.9)\n",
            "Requirement already satisfied: requests-oauthlib>=0.7.0 in /usr/local/lib/python3.10/dist-packages (from google-auth-oauthlib<1.1,>=0.5->tensorboard<2.13,>=2.12->tensorflow>=2.3.4->nengo_dl) (1.3.1)\n",
            "Requirement already satisfied: urllib3<1.27,>=1.21.1 in /usr/local/lib/python3.10/dist-packages (from requests<3,>=2.21.0->tensorboard<2.13,>=2.12->tensorflow>=2.3.4->nengo_dl) (1.26.15)\n",
            "Requirement already satisfied: certifi>=2017.4.17 in /usr/local/lib/python3.10/dist-packages (from requests<3,>=2.21.0->tensorboard<2.13,>=2.12->tensorflow>=2.3.4->nengo_dl) (2022.12.7)\n",
            "Requirement already satisfied: charset-normalizer~=2.0.0 in /usr/local/lib/python3.10/dist-packages (from requests<3,>=2.21.0->tensorboard<2.13,>=2.12->tensorflow>=2.3.4->nengo_dl) (2.0.12)\n",
            "Requirement already satisfied: idna<4,>=2.5 in /usr/local/lib/python3.10/dist-packages (from requests<3,>=2.21.0->tensorboard<2.13,>=2.12->tensorflow>=2.3.4->nengo_dl) (3.4)\n",
            "Requirement already satisfied: pyasn1<0.6.0,>=0.4.6 in /usr/local/lib/python3.10/dist-packages (from pyasn1-modules>=0.2.1->google-auth<3,>=1.6.3->tensorboard<2.13,>=2.12->tensorflow>=2.3.4->nengo_dl) (0.5.0)\n",
            "Requirement already satisfied: oauthlib>=3.0.0 in /usr/local/lib/python3.10/dist-packages (from requests-oauthlib>=0.7.0->google-auth-oauthlib<1.1,>=0.5->tensorboard<2.13,>=2.12->tensorflow>=2.3.4->nengo_dl) (3.2.2)\n",
            "Building wheels for collected packages: nengo_dl\n",
            "  Building wheel for nengo_dl (pyproject.toml) ... \u001b[?25l\u001b[?25hdone\n",
            "  Created wheel for nengo_dl: filename=nengo_dl-3.6.0-py3-none-any.whl size=204190 sha256=259f271279a1e4ac106bf701b742092ff487ec9f7051aae4799c851a3b8ea4b7\n",
            "  Stored in directory: /root/.cache/pip/wheels/99/98/1a/c238f79c953dec26b4345dc4aa1a9b7b0b250bac1018985465\n",
            "Successfully built nengo_dl\n",
            "Installing collected packages: nengo_dl\n",
            "Successfully installed nengo_dl-3.6.0\n"
          ]
        }
      ],
      "source": [
        "!pip3 install nengo\n",
        "!pip3 install nengo_dl"
      ]
    },
    {
      "cell_type": "code",
      "execution_count": 2,
      "metadata": {
        "id": "Ra-tPmwq7RMu"
      },
      "outputs": [],
      "source": [
        "%matplotlib inline\n",
        "\n",
        "from urllib.request import urlretrieve\n",
        "\n",
        "import nengo\n",
        "import tensorflow as tf\n",
        "import numpy as np\n",
        "import matplotlib.pyplot as plt\n",
        "\n",
        "import nengo_dl"
      ]
    },
    {
      "cell_type": "code",
      "execution_count": 3,
      "metadata": {
        "colab": {
          "base_uri": "https://localhost:8080/",
          "height": 368
        },
        "id": "n6XaFD4I7cca",
        "outputId": "9b5e092a-7830-4278-d3b4-606bac49dbcb"
      },
      "outputs": [
        {
          "output_type": "stream",
          "name": "stdout",
          "text": [
            "Downloading data from https://storage.googleapis.com/tensorflow/tf-keras-datasets/mnist.npz\n",
            "11490434/11490434 [==============================] - 0s 0us/step\n"
          ]
        },
        {
          "output_type": "display_data",
          "data": {
            "text/plain": [
              "<Figure size 1200x400 with 3 Axes>"
            ],
            "image/png": "[encoded data removed]"
          },
          "metadata": {}
        }
      ],
      "source": [
        "(train_images, train_labels), (\n",
        "    test_images,\n",
        "    test_labels,\n",
        ") = tf.keras.datasets.mnist.load_data()\n",
        "\n",
        "# flatten images\n",
        "train_images = train_images.reshape((train_images.shape[0], -1))\n",
        "test_images = test_images.reshape((test_images.shape[0], -1))\n",
        "\n",
        "plt.figure(figsize=(12, 4))\n",
        "for i in range(3):\n",
        "    plt.subplot(1, 3, i + 1)\n",
        "    plt.imshow(np.reshape(train_images[i], (28, 28)), cmap=\"gray\")\n",
        "    plt.axis(\"off\")\n",
        "    plt.title(str(train_labels[i]))\n"
      ]
    },
    {
      "cell_type": "code",
      "execution_count": 4,
      "metadata": {
        "id": "cM37lGRZ71SW"
      },
      "outputs": [],
      "source": [
        "with nengo.Network(seed=0) as net:\n",
        "    # set some default parameters for the neurons that will make\n",
        "    # the training progress more smoothly\n",
        "    net.config[nengo.Ensemble].max_rates = nengo.dists.Choice([100])\n",
        "    net.config[nengo.Ensemble].intercepts = nengo.dists.Choice([0])\n",
        "    net.config[nengo.Connection].synapse = None\n",
        "    neuron_type = nengo.LIF(amplitude=0.01)\n",
        "\n",
        "    # this is an optimization to improve the training speed,\n",
        "    # since we won't require stateful behaviour in this example\n",
        "    nengo_dl.configure_settings(stateful=False)\n",
        "\n",
        "    # the input node that will be used to feed in input images\n",
        "    inp = nengo.Node(np.zeros(28 * 28))\n",
        "\n",
        "    # add the first convolutional layer\n",
        "    x = nengo_dl.Layer(tf.keras.layers.Conv2D(filters=32, kernel_size=3))(\n",
        "        inp, shape_in=(28, 28, 1)\n",
        "    )\n",
        "    x = nengo_dl.Layer(neuron_type)(x)\n",
        "\n",
        "    # add the second convolutional layer\n",
        "    x = nengo_dl.Layer(tf.keras.layers.Conv2D(filters=64, strides=2, kernel_size=3))(\n",
        "        x, shape_in=(26, 26, 32)\n",
        "    )\n",
        "    x = nengo_dl.Layer(neuron_type)(x)\n",
        "\n",
        "    # add the third convolutional layer\n",
        "    x = nengo_dl.Layer(tf.keras.layers.Conv2D(filters=128, strides=2, kernel_size=3))(\n",
        "        x, shape_in=(12, 12, 64)\n",
        "    )\n",
        "    x = nengo_dl.Layer(neuron_type)(x)\n",
        "\n",
        "    # linear readout\n",
        "    out = nengo_dl.Layer(tf.keras.layers.Dense(units=10))(x)\n",
        "\n",
        "    # we'll create two different output probes, one with a filter\n",
        "    # (for when we're simulating the network over time and\n",
        "    # accumulating spikes), and one without (for when we're\n",
        "    # training the network using a rate-based approximation)\n",
        "    out_p = nengo.Probe(out, label=\"out_p\")\n",
        "    out_p_filt = nengo.Probe(out, synapse=0.1, label=\"out_p_filt\")\n"
      ]
    },
    {
      "cell_type": "code",
      "execution_count": 5,
      "metadata": {
        "colab": {
          "base_uri": "https://localhost:8080/"
        },
        "id": "ybE3cNOu75zZ",
        "outputId": "8c5fec34-422a-41cd-86bb-3ff44e369f6a"
      },
      "outputs": [
        {
          "output_type": "stream",
          "name": "stdout",
          "text": [
            "|###                   Building network (5%)                     | ETA: 0:00:02"
          ]
        },
        {
          "output_type": "stream",
          "name": "stderr",
          "text": [
            "/usr/local/lib/python3.10/dist-packages/nengo_dl/simulator.py:456: UserWarning: No GPU support detected. See https://www.nengo.ai/nengo-dl/installation.html#installing-tensorflow for instructions on setting up TensorFlow with GPU support.\n",
            "  warnings.warn(\n"
          ]
        },
        {
          "output_type": "stream",
          "name": "stdout",
          "text": [
            "Build finished in 0:00:00                                                      \n",
            "Optimization finished in 0:00:00                                               \n",
            "Construction finished in 0:00:00                                               \n"
          ]
        }
      ],
      "source": [
        "minibatch_size = 200\n",
        "sim = nengo_dl.Simulator(net, minibatch_size=minibatch_size)"
      ]
    },
    {
      "cell_type": "code",
      "execution_count": 6,
      "metadata": {
        "id": "pY0UPh1d77r5"
      },
      "outputs": [],
      "source": [
        "# add single timestep to training data\n",
        "train_images = train_images[:, None, :]\n",
        "train_labels = train_labels[:, None, None]\n",
        "#Rate encoding input data\n",
        "n_steps = 30\n",
        "test_images = np.tile(test_images[:, None, :], (1, n_steps, 1))\n",
        "test_labels = np.tile(test_labels[:, None, None], (1, n_steps, 1))\n"
      ]
    },
    {
      "cell_type": "code",
      "execution_count": 7,
      "metadata": {
        "colab": {
          "base_uri": "https://localhost:8080/"
        },
        "id": "J1IRbNfX8AJB",
        "outputId": "254af945-1cd0-494a-c444-888e908b39f4"
      },
      "outputs": [
        {
          "output_type": "stream",
          "name": "stdout",
          "text": [
            "Accuracy before training: 0.11100000143051147\n"
          ]
        }
      ],
      "source": [
        "def classification_accuracy(y_true, y_pred):\n",
        "    return tf.metrics.sparse_categorical_accuracy(y_true[:, -1], y_pred[:, -1])\n",
        "\n",
        "\n",
        "# note that we use `out_p_filt` when testing (to reduce the spike noise)\n",
        "sim.compile(loss={out_p_filt: classification_accuracy})\n",
        "print(\n",
        "    \"Accuracy before training:\",\n",
        "    sim.evaluate(test_images, {out_p_filt: test_labels}, verbose=0)[\"loss\"],\n",
        ")\n"
      ]
    },
    {
      "cell_type": "code",
      "execution_count": 8,
      "metadata": {
        "id": "RPQw9M2Q8KfY",
        "colab": {
          "base_uri": "https://localhost:8080/"
        },
        "outputId": "870aae73-41de-47e9-eb17-dc84eae7e4fc"
      },
      "outputs": [
        {
          "output_type": "stream",
          "name": "stdout",
          "text": [
            "Epoch 1/10\n",
            "300/300 [==============================] - 253s 821ms/step - loss: 0.2735 - out_p_loss: 0.2735\n",
            "Epoch 2/10\n",
            "300/300 [==============================] - 244s 814ms/step - loss: 0.0704 - out_p_loss: 0.0704\n",
            "Epoch 3/10\n",
            "300/300 [==============================] - 248s 826ms/step - loss: 0.0480 - out_p_loss: 0.0480\n",
            "Epoch 4/10\n",
            "300/300 [==============================] - 244s 814ms/step - loss: 0.0383 - out_p_loss: 0.0383\n",
            "Epoch 5/10\n",
            "300/300 [==============================] - 245s 818ms/step - loss: 0.0302 - out_p_loss: 0.0302\n",
            "Epoch 6/10\n",
            "300/300 [==============================] - 246s 822ms/step - loss: 0.0244 - out_p_loss: 0.0244\n",
            "Epoch 7/10\n",
            "300/300 [==============================] - 245s 818ms/step - loss: 0.0200 - out_p_loss: 0.0200\n",
            "Epoch 8/10\n",
            "300/300 [==============================] - 245s 817ms/step - loss: 0.0163 - out_p_loss: 0.0163\n",
            "Epoch 9/10\n",
            "300/300 [==============================] - 243s 812ms/step - loss: 0.0133 - out_p_loss: 0.0133\n",
            "Epoch 10/10\n",
            "300/300 [==============================] - 243s 811ms/step - loss: 0.0107 - out_p_loss: 0.0107\n"
          ]
        }
      ],
      "source": [
        "\n",
        "# run training\n",
        "sim.compile(\n",
        "    optimizer=tf.optimizers.RMSprop(0.001),\n",
        "    loss={out_p: tf.losses.SparseCategoricalCrossentropy(from_logits=True)},\n",
        ")\n",
        "sim.fit(train_images, {out_p: train_labels}, epochs=10)\n",
        "\n",
        "# save the parameters to file\n",
        "sim.save_params(\"./mnist_params\")\n",
        "\n"
      ]
    },
    {
      "cell_type": "code",
      "execution_count": 9,
      "metadata": {
        "colab": {
          "base_uri": "https://localhost:8080/"
        },
        "id": "bgszQ5aK8Pty",
        "outputId": "7eac4be5-d410-47b7-ab44-ed3f292a05fc"
      },
      "outputs": [
        {
          "output_type": "stream",
          "name": "stdout",
          "text": [
            "Accuracy after training: 0.9889000058174133\n"
          ]
        }
      ],
      "source": [
        "sim.compile(loss={out_p_filt: classification_accuracy})\n",
        "print(\n",
        "    \"Accuracy after training:\",\n",
        "    sim.evaluate(test_images, {out_p_filt: test_labels}, verbose=0)[\"loss\"],\n",
        ")\n"
      ]
    },
    {
      "cell_type": "code",
      "execution_count": null,
      "metadata": {
        "id": "ThYaQ9t68S3R"
      },
      "outputs": [],
      "source": []
    }
  ],
  "metadata": {
    "colab": {
      "provenance": []
    },
    "kernelspec": {
      "display_name": "Python 3",
      "name": "python3"
    },
    "language_info": {
      "name": "python"
    }
  },
  "nbformat": 4,
  "nbformat_minor": 0
}